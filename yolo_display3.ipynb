{
  "nbformat": 4,
  "nbformat_minor": 0,
  "metadata": {
    "kernelspec": {
      "display_name": "Python 3",
      "language": "python",
      "name": "python3"
    },
    "language_info": {
      "codemirror_mode": {
        "name": "ipython",
        "version": 3
      },
      "file_extension": ".py",
      "mimetype": "text/x-python",
      "name": "python",
      "nbconvert_exporter": "python",
      "pygments_lexer": "ipython3",
      "version": "3.6.6"
    },
    "colab": {
      "name": "yolo_display.ipynb",
      "provenance": [],
      "collapsed_sections": [],
      "include_colab_link": true
    }
  },
  "cells": [
    {
      "cell_type": "markdown",
      "metadata": {
        "id": "view-in-github",
        "colab_type": "text"
      },
      "source": [
        "<a href=\"https://colab.research.google.com/github/erichsiao1106/yolo3/blob/master/yolo_display3.ipynb\" target=\"_parent\"><img src=\"https://colab.research.google.com/assets/colab-badge.svg\" alt=\"Open In Colab\"/></a>"
      ]
    },
    {
      "cell_type": "code",
      "metadata": {
        "id": "v_ep_Q8NNLY8",
        "colab_type": "code",
        "colab": {}
      },
      "source": [
        "from google.colab import drive\n",
        "drive.mount('/content/drive/')"
      ],
      "execution_count": null,
      "outputs": []
    },
    {
      "cell_type": "code",
      "metadata": {
        "id": "Wg_w1R1gO6Ou",
        "colab_type": "code",
        "colab": {}
      },
      "source": [
        "import os\n",
        "import sys\n",
        "FOLDER_PATH = '/content/drive/My Drive/class/勞動部/week9/keras-yolo3-defect'\n",
        "sys.path.append(FOLDER_PATH)"
      ],
      "execution_count": null,
      "outputs": []
    },
    {
      "cell_type": "code",
      "metadata": {
        "id": "7_R_D3a9NFcA",
        "colab_type": "code",
        "colab": {}
      },
      "source": [
        "import numpy as np\n",
        "import keras.backend as K\n",
        "from keras.layers import Input, Lambda\n",
        "from train import yolo_body, get_anchors, create_model, get_classes\n",
        "from yolo import YOLO\n",
        "import cv2\n",
        "from PIL import Image\n",
        "import matplotlib.pyplot as plt\n",
        "from glob import glob"
      ],
      "execution_count": null,
      "outputs": []
    },
    {
      "cell_type": "code",
      "metadata": {
        "id": "E7xtUKubNFcD",
        "colab_type": "code",
        "colab": {}
      },
      "source": [
        "classes_path = os.path.join(FOLDER_PATH, 'model_data/aoi_classes.txt')\n",
        "class_names = get_classes(classes_path)\n",
        "num_classes = len(class_names)\n",
        "anchors_path = os.path.join(FOLDER_PATH, 'model_data/yolo_anchors.txt')\n",
        "anchors = get_anchors(anchors_path)\n",
        "\n",
        "yolo = YOLO(model_path=os.path.join(FOLDER_PATH, 'ep084-loss22.021-val_loss21.299.h5'), \n",
        "            classes_path=classes_path,\n",
        "            anchors_path=anchors_path)"
      ],
      "execution_count": null,
      "outputs": []
    },
    {
      "cell_type": "code",
      "metadata": {
        "id": "XIMfQuobNFcG",
        "colab_type": "code",
        "colab": {}
      },
      "source": [
        "path = np.random.choice(glob(os.path.join(FOLDER_PATH, 'dataset/train_img/*')), 1)[0]\n",
        "print(path)\n",
        "image = Image.open(path)\n",
        "r_image = yolo.detect_image(image)\n",
        "r_image.show()\n",
        "plt.imshow(r_image)"
      ],
      "execution_count": null,
      "outputs": []
    },
    {
      "cell_type": "code",
      "metadata": {
        "id": "qb9H_XGXL1SR",
        "colab_type": "code",
        "colab": {}
      },
      "source": [
        ""
      ],
      "execution_count": null,
      "outputs": []
    },
    {
      "cell_type": "markdown",
      "metadata": {
        "id": "pYav5MtCkhgH",
        "colab_type": "text"
      },
      "source": [
        "## Yolo pretrained COCO"
      ]
    },
    {
      "cell_type": "code",
      "metadata": {
        "id": "8tfVCOP1kkEd",
        "colab_type": "code",
        "colab": {}
      },
      "source": [
        "classes_path = os.path.join(FOLDER_PATH, 'model_data/coco_classes.txt')\n",
        "class_names = get_classes(classes_path)\n",
        "num_classes = len(class_names)\n",
        "anchors_path = os.path.join(FOLDER_PATH, 'model_data/yolo_anchors.txt')\n",
        "anchors = get_anchors(anchors_path)\n",
        "\n",
        "yolo = YOLO(model_path=os.path.join(FOLDER_PATH, 'yolo_weights.h5'),\n",
        "            classes_path=classes_path,\n",
        "            anchors_path=anchors_path)"
      ],
      "execution_count": null,
      "outputs": []
    },
    {
      "cell_type": "code",
      "metadata": {
        "id": "0ijhXU8KkoZT",
        "colab_type": "code",
        "colab": {}
      },
      "source": [
        "path = os.path.join(FOLDER_PATH, 'street.jpeg')\n",
        "print(path)\n",
        "image = Image.open(path)\n",
        "r_image = yolo.detect_image(image)\n",
        "r_image.show()\n",
        "plt.figure(figsize=(20,20))\n",
        "plt.imshow(r_image)"
      ],
      "execution_count": null,
      "outputs": []
    },
    {
      "cell_type": "code",
      "metadata": {
        "id": "_Eh0Hw1t4ZJ4",
        "colab_type": "code",
        "colab": {}
      },
      "source": [
        ""
      ],
      "execution_count": null,
      "outputs": []
    }
  ]
}